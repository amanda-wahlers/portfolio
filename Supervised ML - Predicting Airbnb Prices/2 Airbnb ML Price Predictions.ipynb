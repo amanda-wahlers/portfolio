{
 "cells": [
  {
   "cell_type": "markdown",
   "id": "d9713e19-dd5c-4c4b-8c93-4574ce5bfa0d",
   "metadata": {},
   "source": [
    "# Create Airbnb price suggestion tool for new hosts using machine learning\n",
    "\n",
    "**Amanda Wahlers**\n",
    "\n",
    "Goal: Use machine learning to create a tool that suggests a listing price for new Airbnb hosts based on the prices and characteristics of other listings in their market. \n",
    "\n",
    "Task: Supervised ML, regression - Predict listing price using features that would be available to a new host and use these to generate suggested pricing for new listings. \n",
    "\n",
    "Dataset: Bozeman, Montana, US; 10 August, 2023; downloaded from Inside Airbnb @ https://insideairbnb.com/get-the-data/\n",
    "\n",
    "This notebook contains: \n",
    "1. Data cleaning: Extracting numeric features from strings, subsetting dataset to target listings (non-institutional host, non-luxury), dealing appropriately with missing values. \n",
    "2. Feature engineering: Using my domain knowledge and insights from exploratory analysis to extract important amenities, create sensible listing types (house, apt, guest house, private room), and interact these listing types with key characteristics that predict price.\n",
    "3. Set up pipelines to tune and train regularized regression (Lasso, Ridge, Elastic Net) and tree ensemble (Random Forest, Gradient Boosting Regressor, XGBoost Regressor) algorithms with embedded feature selection.\n",
    "4. Train models, calculate performance metrics, & choose the best model. \n",
    "\n",
    "This is a streamlined, \"production-ready\" version of the code I wrote to arrive at these results, exlcuding many data visualizations and print statements to better understand the data.\n",
    "The accompanying raw code file, as well as a \"production-ready\" version of the exploratory analysis, can be found in the companion notebooks in this folder.\n",
    "\n",
    "Results: The best model was able to predict the price with a mean absolute error of $53 and an R^2 suggesting that it captured 70% of the variation in the data."
   ]
  },
  {
   "cell_type": "markdown",
   "id": "a0cef567-818c-424b-ba3e-7f2d5ec426fa",
   "metadata": {},
   "source": [
    "## Library Imports"
   ]
  },
  {
   "cell_type": "code",
   "execution_count": 3,
   "id": "172804ca-1216-44d5-9a52-343708fab513",
   "metadata": {},
   "outputs": [],
   "source": [
    "# NumPy for numerical computing\n",
    "import numpy as np\n",
    "\n",
    "# Pandas for DataFrames\n",
    "import pandas as pd\n",
    "pd.set_option('display.max_columns',100)\n",
    "pd.set_option('display.max_rows',100)\n",
    "pd.set_option('display.float_format', lambda x: '%.3f' % x)\n",
    "\n",
    "# Goepandas for GIS\n",
    "import geopandas as gpd\n",
    "\n",
    "# Matplotlib for visualization\n",
    "from matplotlib import pyplot as plt\n",
    "%matplotlib inline\n",
    "\n",
    "# Seaborn for easier visualization\n",
    "import seaborn as sns\n",
    "sns.set_style('white')\n",
    "\n",
    "# Import function to split data into training and testing sets\n",
    "from sklearn.model_selection import train_test_split\n",
    "\n",
    "# Import functions for standardization\n",
    "from sklearn.preprocessing import StandardScaler\n",
    "from sklearn.preprocessing import RobustScaler\n",
    "\n",
    "# Import function for creation model pipeline\n",
    "from sklearn.pipeline import make_pipeline\n",
    "\n",
    "# Import regularized regression algorithms\n",
    "from sklearn.linear_model import Lasso, Ridge, ElasticNet\n",
    "\n",
    "# Import tree ensemble algorithms\n",
    "from sklearn.ensemble import RandomForestRegressor, GradientBoostingRegressor\n",
    "from xgboost import XGBRegressor\n",
    "\n",
    "# Import helper function for cross-validation\n",
    "from sklearn.model_selection import GridSearchCV\n",
    "\n",
    "# Import performance metrics\n",
    "from sklearn.metrics import r2_score\n",
    "from sklearn.metrics import mean_absolute_error\n",
    "\n",
    "# Import error warning\n",
    "from sklearn.exceptions import NotFittedError\n",
    "\n",
    "# Import function to save model\n",
    "import pickle"
   ]
  },
  {
   "cell_type": "markdown",
   "id": "0c2f5782-b84e-4af3-89ed-21737c6125df",
   "metadata": {},
   "source": [
    "## Data Cleaning\n",
    "\n",
    "Data cleaning first because almost all useful features need to be made numeric before exploratory analysis. "
   ]
  },
  {
   "cell_type": "code",
   "execution_count": 5,
   "id": "a7b8a1d8-8a1a-462b-83c4-3975e88c21a2",
   "metadata": {},
   "outputs": [],
   "source": [
    "# Read in dataset\n",
    "listings = pd.read_csv('Data/August_2023/listings_detail.csv',index_col='id')"
   ]
  },
  {
   "cell_type": "code",
   "execution_count": 6,
   "id": "8aa572cc-fb98-4992-ab20-aaacc3543826",
   "metadata": {},
   "outputs": [],
   "source": [
    "# Drop duplicate observations\n",
    "listings = listings.drop_duplicates()\n",
    "\n",
    "# Drop features for which all values are missing\n",
    "listings.dropna(axis=\"columns\", how=\"all\", inplace=True)\n",
    "\n",
    "# Subset to features that are relevant to the task at hand\n",
    "listings = listings[['latitude', 'longitude', 'property_type', 'room_type', 'accommodates', \n",
    "                     'bathrooms_text', 'bedrooms', 'beds', 'amenities', 'price', 'host_is_superhost',\n",
    "                     'instant_bookable', 'minimum_minimum_nights', 'calculated_host_listings_count']]"
   ]
  },
  {
   "cell_type": "code",
   "execution_count": 7,
   "id": "79508b96-3584-4371-a661-5f4a58075bfb",
   "metadata": {},
   "outputs": [],
   "source": [
    "# Convert objects that should be numeric types\n",
    "\n",
    "# Bathrooms (string containing number -> float)\n",
    "listings.bathrooms_text.replace('Half-bath', '0.5 baths', inplace=True)\n",
    "listings['bathrooms'] = listings['bathrooms_text'].str.split(' ').str[0].astype(float)\n",
    "listings[['bathrooms', 'bathrooms_text']].head(20)\n",
    "\n",
    "# Price (string -> float)\n",
    "listings['price_str'] = listings['price'].copy()\n",
    "listings['price'] = listings['price'].replace({'\\$': '', ',': ''}, regex=True).astype(float)\n",
    "listings[['price', 'price_str']].head()\n",
    "\n",
    "# Instant bookable (str -> int)\n",
    "listings['instant_bookable'] = (listings['instant_bookable'] == 't').astype(int)\n",
    "\n",
    "# Bedrooms (string -> int)\n",
    "listings['bedrooms'] = listings['bedrooms'].astype('Int64')\n",
    "listings.groupby('room_type').bedrooms.value_counts() \n",
    "listings.bedrooms.fillna(0, inplace=True) # Seems likely that this indicates 0 \"bedroooms\" (studio, private room, tent, etc)\n",
    "listings['bedrooms'] = listings['bedrooms'].astype(int)\n",
    "\n",
    "# Beds (fill in a few missing beds with the # of bedrooms - there must be at least 1 bed(ish thing) in a 1 bedroom space)\n",
    "listings.beds.fillna(listings.bedrooms, inplace=True) \n",
    "\n",
    "# Superhost status (string -> int)\n",
    "listings['host_is_superhost'] = (listings['host_is_superhost'] == 't').astype(int)"
   ]
  },
  {
   "cell_type": "code",
   "execution_count": 8,
   "id": "03fdebb5-09be-43d0-b5ae-64b734708870",
   "metadata": {},
   "outputs": [],
   "source": [
    "# Aim tool at non-luxury stays, so drop any listings over the 98th percentile in price\n",
    "listings.price.describe().transpose()\n",
    "p = listings.price.quantile(0.97)\n",
    "listings = listings[listings['price'].between(1, p)]"
   ]
  },
  {
   "cell_type": "markdown",
   "id": "51ba2244-348b-4d95-a60d-6c91bc14e6b8",
   "metadata": {},
   "source": [
    "## Feature Engineering \n",
    "Here I engineer two key features that I suspect will provide useful information for predicting listing price: \\\n",
    "\\\n",
    "**Listing type:** House, Apt/condo/townhouse, Guest suite/house, Private room \\\n",
    "This is useful because property type is too detailed for this relatively small market and room type is too general. \\\n",
    "**Key amenities:** Hot tub, wifi, air conditioning, pet-friendliness, kitchen, ...etc.\\\n",
    "**Attributes x listing type:** Attributes should be more predictive of price within a listing type than across \\\n",
    "For example: AC > no AC; but also AC in a house > no AC in a house > AC in  a private room"
   ]
  },
  {
   "cell_type": "markdown",
   "id": "9949376e-70d0-4887-9ac7-ef3f7f3f50d4",
   "metadata": {},
   "source": [
    "### 1. Group listings into useful listing types: \n",
    "House, apt/condo/townhouse, guest suite/house, private room"
   ]
  },
  {
   "cell_type": "code",
   "execution_count": 11,
   "id": "376f65f2-2ef2-40c4-9ccf-e826477580a0",
   "metadata": {},
   "outputs": [],
   "source": [
    "# Assign useful listing-type groups based on domain knowledge and shared characteristics (# of bedrooms, price) in this market \n",
    "listings['listing_type'] = listings['property_type'].copy()\n",
    "listings['listing_type'].replace(['Entire home', 'Entire townhouse', 'Entire bungalow', 'Entire chalet', 'Entire cabin', 'Entire vacation home'], 'house', inplace=True)\n",
    "listings['listing_type'].replace(['Entire condo', 'Entire rental unit'], 'apt', inplace=True)\n",
    "listings['listing_type'].replace(['Entire guesthouse', 'Entire guest suite', 'Entire cottage', 'Entire loft', 'Entire place'], 'guest_suite', inplace=True)\n",
    "listings['listing_type'].replace(['Private room in home', 'Private room in townhouse', 'Private room in rental unit', \n",
    "                          'Private room in guesthouse', 'Private room in bed and breakfast', \n",
    "                          'Private room in condo', 'Private room in guest suite', 'Camper/RV', 'Tent'], 'private_room', inplace=True)\n",
    "\n",
    "# Drop types of properties that will be outside the scope of the tool or are unable to be predicted in this market\n",
    "# Hotel rooms & luxury serviced apartments (would likely have institutional hosts), & shared rooms (too few listings)\n",
    "listings = listings[~listings.property_type.isin(['Entire serviced apartment','Room in boutique hotel',\n",
    "                                               'Room in hostel','Shared room in hostel'])]"
   ]
  },
  {
   "cell_type": "markdown",
   "id": "5df3c408-1b00-425b-9e70-3fa74c653cd5",
   "metadata": {},
   "source": [
    "### 2. Create indicators for key amenities: \n",
    "Kitchen, hot tub, wifi, air conditioning, pet-friendliness, ...etc."
   ]
  },
  {
   "cell_type": "code",
   "execution_count": 13,
   "id": "757b4c13-bd16-4f07-8156-71459e240fc2",
   "metadata": {},
   "outputs": [],
   "source": [
    "# Create indicators for amenities that may help predict price\n",
    "listings['amenities'] = listings.amenities.str.lower()\n",
    "amenities_list = ['wifi', 'hot tub', '\\\"kitchen\\\"', 'tv', 'coffee', '\\\"washer\\\"|\\\"free washer', '\\\"dryer\\\"|free dryer', \n",
    "                  'backyard', '\\\"pets allowed\\\"', 'workspace', 'pool', 'fire pit', 'bbq', \n",
    "                  'window ac|air conditioning|ac - split', 'free parking', 'dishwasher', 'gym', 'self check-in', 'stove', 'view',\n",
    "                 'patio', 'crib'] \n",
    "for amenity in amenities_list:\n",
    "    listings[amenity] = listings['amenities'].str.contains(amenity).astype(int)\n",
    "\n",
    "# Engineer feature for total number of important amenities at each property (keeping in mind some amenities are worth more than others)\n",
    "listings['total_amenities'] = listings[amenities_list].sum(axis=1)\n",
    "\n",
    "# View share of listings with each amenity\n",
    "listings[amenities_list].mean()\n",
    "\n",
    "# Rename amenities to remove special characters\n",
    "listings = listings.rename(columns={'\\\"kitchen\\\"': 'kitchen', '\\\"washer\\\"|\\\"free washer': 'washer', '\\\"dryer\\\"|free dryer': 'dryer',\n",
    "                         '\\\"pets allowed\\\"': 'pets allowed', 'window ac|air conditioning|ac - split': 'ac'}, errors='raise')"
   ]
  },
  {
   "cell_type": "markdown",
   "id": "0b556012-5360-4aa7-a18f-4868f9503d42",
   "metadata": {},
   "source": [
    "### 3. Other feature engineering\n",
    "Ensure there aren't any sparse classes (aggregate, flag, or censor where appropriate), create interactions between variables, and engineer any misc. features that might help predict price."
   ]
  },
  {
   "cell_type": "code",
   "execution_count": 15,
   "id": "60d7d0d2-2811-46be-bd9b-c28a2edee2a4",
   "metadata": {},
   "outputs": [],
   "source": [
    "# Create log price (helpful since price is right tailed)\n",
    "listings['log_price'] = np.log10(listings.price)"
   ]
  },
  {
   "cell_type": "code",
   "execution_count": 16,
   "id": "9678629c-df2a-4e92-b296-6dab88e291da",
   "metadata": {},
   "outputs": [],
   "source": [
    "# Generate indicator that listing is located downtown\n",
    "listings['downtown'] = (listings.longitude.between(-111.06,-111.02) & listings.latitude.between(45.66, 45.69)).astype(int)"
   ]
  },
  {
   "cell_type": "code",
   "execution_count": 17,
   "id": "953cba5e-cdad-49e0-925d-787e5a36d1cd",
   "metadata": {},
   "outputs": [],
   "source": [
    "# Create indicator that property only accepts long stays (28+ days) \n",
    "listings['long_stays_only'] = (listings.minimum_minimum_nights >=28).astype(int)"
   ]
  },
  {
   "cell_type": "code",
   "execution_count": 18,
   "id": "8cda6600-f28f-455c-bf99-7391884f36ed",
   "metadata": {},
   "outputs": [],
   "source": [
    "# Generate polar coordinates from lat, long (more helpful to ML algos than cartesian coords)\n",
    "def polarcoords(long, lat):\n",
    "    z = long + lat * 1j\n",
    "    rho, theta = np.abs(z), np.angle(z)\n",
    "\n",
    "    return rho, theta\n",
    "\n",
    "# Call function and store polar coordinates\n",
    "listings['rho'],listings['theta'] = polarcoords(listings.longitude, listings.latitude)"
   ]
  },
  {
   "cell_type": "code",
   "execution_count": 19,
   "id": "fa17a90a-bc36-43f1-b7fe-4031d0591dce",
   "metadata": {},
   "outputs": [],
   "source": [
    "# Max # of guests (rename)\n",
    "listings['max_guests'] = listings['accommodates'].copy()"
   ]
  },
  {
   "cell_type": "code",
   "execution_count": 20,
   "id": "57140cff-640f-4e24-a89f-29f9a3c2dbc6",
   "metadata": {},
   "outputs": [],
   "source": [
    "# Total number of bedrooms + bathrooms (beds & baths are some of the features most correlated with price in this data)\n",
    "listings['bedroom_and_bath'] = listings['bedrooms'] + listings['bathrooms']"
   ]
  },
  {
   "cell_type": "code",
   "execution_count": 21,
   "id": "ee9e4717-a31b-40e9-bdc9-f1c8bbe32399",
   "metadata": {},
   "outputs": [],
   "source": [
    "# Ratio of bedrooms to bathrooms\n",
    "listings['baths_per_bedroom'] = listings['bathrooms']/listings['bedrooms']\n",
    "listings.loc[listings.baths_per_bedroom > 10, 'baths_per_bedroom'] = 1.0  # get rid of pesky infinities for 0 bedrooms"
   ]
  },
  {
   "cell_type": "code",
   "execution_count": 22,
   "id": "eef07791-2ff1-483f-a7af-fa5c1203b390",
   "metadata": {},
   "outputs": [],
   "source": [
    "# Create squared & cubed terms for features that are highly correlated with price to help capture non-linear effects \n",
    "features = ['max_guests', 'bathrooms', 'beds', 'bedrooms', 'bedroom_and_bath', 'baths_per_bedroom']\n",
    "\n",
    "for f in features:\n",
    "    listings['{}_sq'.format(f)] = listings[f] * listings[f]\n",
    "    listings['{}_cu'.format(f)] = listings[f] * listings[f] * listings[f]"
   ]
  },
  {
   "cell_type": "code",
   "execution_count": 23,
   "id": "59e233d0-a1a1-4fc6-8a22-1beed7cf0708",
   "metadata": {},
   "outputs": [],
   "source": [
    "# Create indicator for 3+ listings ('job' rather than 'side hustle')\n",
    "listings['three_plus_listings']  = (listings.calculated_host_listings_count > 2).astype(int)"
   ]
  },
  {
   "cell_type": "markdown",
   "id": "81f33208-efc0-486d-a323-ea1128319105",
   "metadata": {},
   "source": [
    "### 4. Interaction terms: Attributes x listing type\n",
    "Within each listing type (private room, guest house, apartment, house), there are likely to be amenities or features that increase the price within that type of listing, but this relationship does not necessarily hold across types. For example, a house with AC would probably be priced higher than a house without AC, but a private room with AC would not be priced higher than a house without AC."
   ]
  },
  {
   "cell_type": "code",
   "execution_count": 25,
   "id": "902e01d8-1aff-482f-8fe6-3e8e5c481970",
   "metadata": {},
   "outputs": [],
   "source": [
    "# Interact key features with listing type \n",
    "\n",
    "# Create dummies for listing type and keep the original column\n",
    "listings2 = pd.get_dummies(listings, columns=['listing_type'], dtype=int)\n",
    "listings2['listing_type'] = listings['listing_type'].copy()\n",
    "listings  = listings2.copy() \n",
    "\n",
    "# Create two lists: one of listings types, one of features\n",
    "type_list    = ['listing_type_apt','listing_type_guest_suite', 'listing_type_house', 'listing_type_private_room']\n",
    "feature_list = ['max_guests', 'bedrooms', 'bathrooms', 'ac', 'kitchen', 'pets allowed', 'downtown']\n",
    "\n",
    "# Interact features x listing types\n",
    "for f in feature_list:\n",
    "    for m in type_list:\n",
    "        listings['{}_{}'.format(m,f)] = listings[m]*listings[f]"
   ]
  },
  {
   "cell_type": "markdown",
   "id": "bfb1ac76-6e1d-410e-b1db-2d865dca509e",
   "metadata": {},
   "source": [
    "### 5. Save analytical base table"
   ]
  },
  {
   "cell_type": "code",
   "execution_count": 27,
   "id": "535e53c0-e334-4bfc-9ea6-f1c3f4167a0e",
   "metadata": {},
   "outputs": [],
   "source": [
    "# Create analytical base table with features that will go into the model\n",
    "abt = listings[['bedrooms', 'beds', 'price', 'log_price', 'instant_bookable','bathrooms','wifi', \n",
    "                    'hot tub', 'kitchen', 'tv', 'coffee', 'washer', 'dryer', 'backyard', \n",
    "                    'pets allowed', 'workspace', 'pool', 'fire pit', 'bbq', 'ac', \n",
    "                    'free parking', 'dishwasher', 'gym', 'self check-in', 'stove', 'view', 'patio', \n",
    "                    'crib', 'total_amenities', 'rho', 'theta', 'downtown', 'long_stays_only', \n",
    "                    'max_guests', 'bedroom_and_bath', 'baths_per_bedroom', 'max_guests_sq', \n",
    "                    'bathrooms_sq', 'beds_sq', 'bedrooms_sq','bedroom_and_bath_sq', 'baths_per_bedroom_sq',\n",
    "                    'listing_type_apt_max_guests', 'listing_type_guest_suite_max_guests',\n",
    "                   'listing_type_house_max_guests', 'listing_type_private_room_max_guests',\n",
    "                    'listing_type_apt', 'listing_type_guest_suite', 'listing_type_house', 'listing_type_private_room', \n",
    "                    'listing_type_apt_bedrooms', 'listing_type_guest_suite_bedrooms', 'max_guests_sq', 'max_guests_cu',\n",
    "                    'listing_type_house_bedrooms', 'listing_type_private_room_bedrooms',\n",
    "                    'listing_type_apt_bathrooms', 'listing_type_guest_suite_bathrooms',\n",
    "                    'listing_type_house_bathrooms', 'listing_type_private_room_bathrooms',\n",
    "                    'listing_type_apt_ac', 'listing_type_guest_suite_ac', 'listing_type_house_ac', 'listing_type_private_room_ac',\n",
    "                    'listing_type_apt_kitchen', 'listing_type_guest_suite_kitchen','listing_type_house_kitchen', \n",
    "                    'listing_type_private_room_kitchen','listing_type_apt_pets allowed','listing_type_guest_suite_pets allowed',\n",
    "                    'listing_type_house_pets allowed','listing_type_private_room_pets allowed', 'listing_type_apt_downtown',\n",
    "                    'listing_type_guest_suite_downtown', 'listing_type_house_downtown', 'bathrooms_sq',\n",
    "                    'bathrooms_cu', 'beds_sq', 'beds_cu', 'bedrooms_sq', 'bedrooms_cu',\n",
    "                    'bedroom_and_bath_sq', 'bedroom_and_bath_cu', 'baths_per_bedroom_sq',\n",
    "                    'baths_per_bedroom_cu', 'listing_type_private_room_downtown']].copy()"
   ]
  },
  {
   "cell_type": "code",
   "execution_count": 28,
   "id": "120980c1-074f-4e56-b1a9-c8c0ad3fba29",
   "metadata": {},
   "outputs": [],
   "source": [
    "# Assert no missing values remain\n",
    "assert all(listings.isna().sum()) == 0"
   ]
  },
  {
   "cell_type": "code",
   "execution_count": 29,
   "id": "7a10bd89-46ea-4454-8003-7ebc6436bf48",
   "metadata": {},
   "outputs": [],
   "source": [
    "# Assert all features are numeric\n",
    "assert all(abt.dtypes.map(pd.api.types.is_numeric_dtype)) == True"
   ]
  },
  {
   "cell_type": "code",
   "execution_count": 30,
   "id": "d9c8d1b1-b668-400d-9771-20ef73a9d182",
   "metadata": {},
   "outputs": [],
   "source": [
    "# Save data\n",
    "abt.to_csv('Data/abt.csv', index=None)"
   ]
  },
  {
   "cell_type": "markdown",
   "id": "f63f99f8-0bb5-4f82-862a-69d8b5a27043",
   "metadata": {},
   "source": [
    "## Algorithm Selection\n",
    "\n",
    "Split data into train and test sets. Set up pipelines for regularized regression (parametric) and tree ensemble algorithms (non-parametric). Initialize hyperparameter grids, which will enable algorithms to perform embedded feature selection. "
   ]
  },
  {
   "cell_type": "code",
   "execution_count": 32,
   "id": "6a00cc02-d4e9-43fe-9df1-74fce9a2d1f1",
   "metadata": {},
   "outputs": [],
   "source": [
    "# Load abt\n",
    "abt = pd.read_csv('Data/abt.csv')"
   ]
  },
  {
   "cell_type": "code",
   "execution_count": 33,
   "id": "6990e4fd-b8df-45cc-885f-ccdd57e70614",
   "metadata": {},
   "outputs": [],
   "source": [
    "# Split data into taining and test sets\n",
    "y = abt.log_price\n",
    "X = abt.drop(columns=['price', 'log_price'], axis=1)\n",
    "\n",
    "s = 987\n",
    "X_train, X_test, y_train, y_test = train_test_split(X,y, test_size=0.2, random_state=s) "
   ]
  },
  {
   "cell_type": "code",
   "execution_count": 34,
   "id": "fbc47284-307c-4437-879c-f598a8c33959",
   "metadata": {},
   "outputs": [],
   "source": [
    "# Create pipelines dictionary\n",
    "pipelines = {\n",
    "    # Regularized regression algorithms\n",
    "    'lasso' : make_pipeline(StandardScaler(), Lasso(random_state = s)),\n",
    "    'ridge' : make_pipeline(StandardScaler(), Ridge(random_state = s)),\n",
    "    'enet'  : make_pipeline(StandardScaler(), ElasticNet(random_state=s)),\n",
    "    # Tree ensemble algorithms\n",
    "    'rf'    : make_pipeline(StandardScaler(), RandomForestRegressor(random_state=s)),\n",
    "    'gb'    : make_pipeline(StandardScaler(), GradientBoostingRegressor(random_state=s)),\n",
    "    'xgb'   : make_pipeline(StandardScaler(), XGBRegressor(random_state=s))\n",
    "}\n",
    "\n",
    "# Declare hyperparameters to tune\n",
    "lasso_hp = {\n",
    "    'lasso__alpha' : [0.001, 0.005, 0.01, 0.05, 0.1, 0.5, 1, 5, 10]\n",
    "}\n",
    "ridge_hp = {\n",
    "    'ridge__alpha' : [0.001, 0.005, 0.01, 0.05, 0.1, 0.5, 1, 5, 10]\n",
    "}\n",
    "enet_hp = {\n",
    "    'elasticnet__alpha' : [0.001, 0.005, 0.01, 0.05, 0.1, 0.5, 1, 5, 10],\n",
    "    'elasticnet__l1_ratio' : [0.1, 0.3, 0.5, 0.7, 0.9]\n",
    "}\n",
    "rf_hp = {\n",
    "    'randomforestregressor__n_estimators': [100, 200],\n",
    "    'randomforestregressor__max_features': [1, 'sqrt', 0.33]\n",
    "}\n",
    "gb_hp = {\n",
    "    'gradientboostingregressor__n_estimators' : [100, 200],\n",
    "    'gradientboostingregressor__learning_rate': [0.05, 0.1, 0.2],\n",
    "    'gradientboostingregressor__max_depth': [1, 3, 5]\n",
    "}   \n",
    "xgb_hp = {\n",
    "    'xgbregressor__n_estimators' : [100, 200],\n",
    "    'xgbregressor__learning_rate': [0.05, 0.1, 0.2],\n",
    "    'xgbregressor__max_depth': [1, 3, 5]\n",
    "}   \n",
    "\n",
    "# Compile hyperparameter grids into single dictionary\n",
    "hyperparameters = {\n",
    "    'lasso' : lasso_hp,\n",
    "    'ridge' : ridge_hp,\n",
    "    'enet'  : enet_hp,\n",
    "    'rf'    : rf_hp,\n",
    "    'gb'    : gb_hp,\n",
    "    'xgb'   : xgb_hp\n",
    "}"
   ]
  },
  {
   "cell_type": "code",
   "execution_count": 35,
   "id": "decd91bb-59b8-4bea-ae00-773fe577136e",
   "metadata": {},
   "outputs": [
    {
     "name": "stdout",
     "output_type": "stream",
     "text": [
      "lasso was found in hyperparameters and is a grid.\n",
      "ridge was found in hyperparameters and is a grid.\n",
      "enet was found in hyperparameters and is a grid.\n",
      "rf was found in hyperparameters and is a grid.\n",
      "gb was found in hyperparameters and is a grid.\n",
      "xgb was found in hyperparameters and is a grid.\n"
     ]
    }
   ],
   "source": [
    "# Check that hyperparameter grid was created correctly\n",
    "for key in ['lasso', 'ridge', 'enet', 'rf', 'gb', 'xgb']:\n",
    "    if key in hyperparameters:\n",
    "        if type(hyperparameters[key]) is dict:\n",
    "            print( key, 'was found in hyperparameters and is a grid.' )\n",
    "        else:\n",
    "            print( key, 'was found in hyperparameters, but it is not a grid.' )\n",
    "    else:\n",
    "            print( key, 'was not found in hyperparameters')"
   ]
  },
  {
   "cell_type": "markdown",
   "id": "9a378880-7fee-4f2c-83d4-8e17a725dc4f",
   "metadata": {},
   "source": [
    "## Model Training\n",
    "\n",
    "Tune hyperparameters and calculate performance metrics. Pick a best model."
   ]
  },
  {
   "cell_type": "code",
   "execution_count": 37,
   "id": "9ff408b4-7ecd-4aa7-a00f-4592a1e802d5",
   "metadata": {},
   "outputs": [
    {
     "name": "stdout",
     "output_type": "stream",
     "text": [
      "lasso has been fitted\n",
      "ridge has been fitted\n"
     ]
    },
    {
     "name": "stderr",
     "output_type": "stream",
     "text": [
      "/opt/anaconda3/lib/python3.11/site-packages/sklearn/linear_model/_coordinate_descent.py:631: ConvergenceWarning: Objective did not converge. You might want to increase the number of iterations, check the scale of the features or consider increasing regularisation. Duality gap: 2.995e-02, tolerance: 1.841e-03\n",
      "  model = cd_fast.enet_coordinate_descent(\n",
      "/opt/anaconda3/lib/python3.11/site-packages/sklearn/linear_model/_coordinate_descent.py:631: ConvergenceWarning: Objective did not converge. You might want to increase the number of iterations, check the scale of the features or consider increasing regularisation. Duality gap: 1.945e-01, tolerance: 1.885e-03\n",
      "  model = cd_fast.enet_coordinate_descent(\n",
      "/opt/anaconda3/lib/python3.11/site-packages/sklearn/linear_model/_coordinate_descent.py:631: ConvergenceWarning: Objective did not converge. You might want to increase the number of iterations, check the scale of the features or consider increasing regularisation. Duality gap: 4.328e-01, tolerance: 1.896e-03\n",
      "  model = cd_fast.enet_coordinate_descent(\n",
      "/opt/anaconda3/lib/python3.11/site-packages/sklearn/linear_model/_coordinate_descent.py:631: ConvergenceWarning: Objective did not converge. You might want to increase the number of iterations, check the scale of the features or consider increasing regularisation. Duality gap: 2.020e-01, tolerance: 1.868e-03\n",
      "  model = cd_fast.enet_coordinate_descent(\n",
      "/opt/anaconda3/lib/python3.11/site-packages/sklearn/linear_model/_coordinate_descent.py:631: ConvergenceWarning: Objective did not converge. You might want to increase the number of iterations, check the scale of the features or consider increasing regularisation. Duality gap: 2.909e-01, tolerance: 1.949e-03\n",
      "  model = cd_fast.enet_coordinate_descent(\n",
      "/opt/anaconda3/lib/python3.11/site-packages/sklearn/linear_model/_coordinate_descent.py:631: ConvergenceWarning: Objective did not converge. You might want to increase the number of iterations, check the scale of the features or consider increasing regularisation. Duality gap: 2.746e-01, tolerance: 1.839e-03\n",
      "  model = cd_fast.enet_coordinate_descent(\n",
      "/opt/anaconda3/lib/python3.11/site-packages/sklearn/linear_model/_coordinate_descent.py:631: ConvergenceWarning: Objective did not converge. You might want to increase the number of iterations, check the scale of the features or consider increasing regularisation. Duality gap: 2.048e-01, tolerance: 1.878e-03\n",
      "  model = cd_fast.enet_coordinate_descent(\n",
      "/opt/anaconda3/lib/python3.11/site-packages/sklearn/linear_model/_coordinate_descent.py:631: ConvergenceWarning: Objective did not converge. You might want to increase the number of iterations, check the scale of the features or consider increasing regularisation. Duality gap: 3.230e-01, tolerance: 1.795e-03\n",
      "  model = cd_fast.enet_coordinate_descent(\n",
      "/opt/anaconda3/lib/python3.11/site-packages/sklearn/linear_model/_coordinate_descent.py:631: ConvergenceWarning: Objective did not converge. You might want to increase the number of iterations, check the scale of the features or consider increasing regularisation. Duality gap: 2.401e-01, tolerance: 1.872e-03\n",
      "  model = cd_fast.enet_coordinate_descent(\n",
      "/opt/anaconda3/lib/python3.11/site-packages/sklearn/linear_model/_coordinate_descent.py:631: ConvergenceWarning: Objective did not converge. You might want to increase the number of iterations, check the scale of the features or consider increasing regularisation. Duality gap: 3.409e-03, tolerance: 1.868e-03\n",
      "  model = cd_fast.enet_coordinate_descent(\n",
      "/opt/anaconda3/lib/python3.11/site-packages/sklearn/linear_model/_coordinate_descent.py:631: ConvergenceWarning: Objective did not converge. You might want to increase the number of iterations, check the scale of the features or consider increasing regularisation. Duality gap: 2.706e-01, tolerance: 1.912e-03\n",
      "  model = cd_fast.enet_coordinate_descent(\n",
      "/opt/anaconda3/lib/python3.11/site-packages/sklearn/linear_model/_coordinate_descent.py:631: ConvergenceWarning: Objective did not converge. You might want to increase the number of iterations, check the scale of the features or consider increasing regularisation. Duality gap: 1.809e-02, tolerance: 1.885e-03\n",
      "  model = cd_fast.enet_coordinate_descent(\n",
      "/opt/anaconda3/lib/python3.11/site-packages/sklearn/linear_model/_coordinate_descent.py:631: ConvergenceWarning: Objective did not converge. You might want to increase the number of iterations, check the scale of the features or consider increasing regularisation. Duality gap: 1.570e-02, tolerance: 1.878e-03\n",
      "  model = cd_fast.enet_coordinate_descent(\n",
      "/opt/anaconda3/lib/python3.11/site-packages/sklearn/linear_model/_coordinate_descent.py:631: ConvergenceWarning: Objective did not converge. You might want to increase the number of iterations, check the scale of the features or consider increasing regularisation. Duality gap: 2.691e-02, tolerance: 1.896e-03\n",
      "  model = cd_fast.enet_coordinate_descent(\n",
      "/opt/anaconda3/lib/python3.11/site-packages/sklearn/linear_model/_coordinate_descent.py:631: ConvergenceWarning: Objective did not converge. You might want to increase the number of iterations, check the scale of the features or consider increasing regularisation. Duality gap: 4.365e-03, tolerance: 1.949e-03\n",
      "  model = cd_fast.enet_coordinate_descent(\n",
      "/opt/anaconda3/lib/python3.11/site-packages/sklearn/linear_model/_coordinate_descent.py:631: ConvergenceWarning: Objective did not converge. You might want to increase the number of iterations, check the scale of the features or consider increasing regularisation. Duality gap: 4.564e-03, tolerance: 1.841e-03\n",
      "  model = cd_fast.enet_coordinate_descent(\n",
      "/opt/anaconda3/lib/python3.11/site-packages/sklearn/linear_model/_coordinate_descent.py:631: ConvergenceWarning: Objective did not converge. You might want to increase the number of iterations, check the scale of the features or consider increasing regularisation. Duality gap: 1.151e-02, tolerance: 1.839e-03\n",
      "  model = cd_fast.enet_coordinate_descent(\n",
      "/opt/anaconda3/lib/python3.11/site-packages/sklearn/linear_model/_coordinate_descent.py:631: ConvergenceWarning: Objective did not converge. You might want to increase the number of iterations, check the scale of the features or consider increasing regularisation. Duality gap: 1.373e-02, tolerance: 1.872e-03\n",
      "  model = cd_fast.enet_coordinate_descent(\n",
      "/opt/anaconda3/lib/python3.11/site-packages/sklearn/linear_model/_coordinate_descent.py:631: ConvergenceWarning: Objective did not converge. You might want to increase the number of iterations, check the scale of the features or consider increasing regularisation. Duality gap: 7.838e-03, tolerance: 1.795e-03\n",
      "  model = cd_fast.enet_coordinate_descent(\n",
      "/opt/anaconda3/lib/python3.11/site-packages/sklearn/linear_model/_coordinate_descent.py:631: ConvergenceWarning: Objective did not converge. You might want to increase the number of iterations, check the scale of the features or consider increasing regularisation. Duality gap: 6.752e-02, tolerance: 1.912e-03\n",
      "  model = cd_fast.enet_coordinate_descent(\n",
      "/opt/anaconda3/lib/python3.11/site-packages/sklearn/linear_model/_coordinate_descent.py:631: ConvergenceWarning: Objective did not converge. You might want to increase the number of iterations, check the scale of the features or consider increasing regularisation. Duality gap: 5.942e-03, tolerance: 1.878e-03\n",
      "  model = cd_fast.enet_coordinate_descent(\n",
      "/opt/anaconda3/lib/python3.11/site-packages/sklearn/linear_model/_coordinate_descent.py:631: ConvergenceWarning: Objective did not converge. You might want to increase the number of iterations, check the scale of the features or consider increasing regularisation. Duality gap: 3.227e-03, tolerance: 1.896e-03\n",
      "  model = cd_fast.enet_coordinate_descent(\n",
      "/opt/anaconda3/lib/python3.11/site-packages/sklearn/linear_model/_coordinate_descent.py:631: ConvergenceWarning: Objective did not converge. You might want to increase the number of iterations, check the scale of the features or consider increasing regularisation. Duality gap: 3.366e-03, tolerance: 1.878e-03\n",
      "  model = cd_fast.enet_coordinate_descent(\n",
      "/opt/anaconda3/lib/python3.11/site-packages/sklearn/linear_model/_coordinate_descent.py:631: ConvergenceWarning: Objective did not converge. You might want to increase the number of iterations, check the scale of the features or consider increasing regularisation. Duality gap: 4.479e-03, tolerance: 1.896e-03\n",
      "  model = cd_fast.enet_coordinate_descent(\n"
     ]
    },
    {
     "name": "stdout",
     "output_type": "stream",
     "text": [
      "enet has been fitted\n",
      "rf has been fitted\n",
      "gb has been fitted\n",
      "xgb has been fitted\n"
     ]
    }
   ],
   "source": [
    "# Create empty dictionaries to store output\n",
    "fitted_models = {}\n",
    "feature_importance = {}\n",
    "\n",
    "# Loop through model pipelines, tuning each one and saving it to fitted_models\n",
    "for name, pipeline in pipelines.items():\n",
    "    # Define model\n",
    "    model = GridSearchCV(pipeline, hyperparameters[name], cv= 10, n_jobs = -1)\n",
    "\n",
    "    # Fit model\n",
    "    model.fit(X_train, y_train)\n",
    "\n",
    "    # Store model in dictionary\n",
    "    fitted_models[name] = model\n",
    "\n",
    "    # Print\n",
    "    print(name, 'has been fitted')"
   ]
  },
  {
   "cell_type": "code",
   "execution_count": 38,
   "id": "dfa27ca9-0e13-49d7-ae60-90eae5dca5fc",
   "metadata": {},
   "outputs": [
    {
     "name": "stdout",
     "output_type": "stream",
     "text": [
      "lasso has been fitted.\n",
      "ridge has been fitted.\n",
      "enet has been fitted.\n",
      "rf has been fitted.\n",
      "gb has been fitted.\n",
      "xgb has been fitted.\n"
     ]
    }
   ],
   "source": [
    "# Check that models were sucessfully fitted\n",
    "for name, model in fitted_models.items():\n",
    "    try:\n",
    "        pred = model.predict(X_test)\n",
    "        print(name, 'has been fitted.')\n",
    "    except NotFittedError as e:\n",
    "        print(repr(e))"
   ]
  },
  {
   "cell_type": "code",
   "execution_count": 39,
   "id": "16cfd065-83ba-44bd-ade1-544035eefe5c",
   "metadata": {},
   "outputs": [
    {
     "name": "stdout",
     "output_type": "stream",
     "text": [
      "lasso\n",
      "----\n",
      "R^2: 0.6556574177922558\n",
      "MAE: 56.42536924380449\n",
      "\n",
      "ridge\n",
      "----\n",
      "R^2: 0.7145584249590258\n",
      "MAE: 53.25027708792959\n",
      "\n",
      "enet\n",
      "----\n",
      "R^2: 0.65946740739631\n",
      "MAE: 56.05181643940476\n",
      "\n",
      "rf\n",
      "----\n",
      "R^2: 0.6589920152820123\n",
      "MAE: 55.95522866344103\n",
      "\n",
      "gb\n",
      "----\n",
      "R^2: 0.6683483486550656\n",
      "MAE: 55.46700110827511\n",
      "\n",
      "xgb\n",
      "----\n",
      "R^2: 0.6570221124940541\n",
      "MAE: 56.62245546068467\n",
      "\n"
     ]
    }
   ],
   "source": [
    "# Display performance metrics for each model\n",
    "for key, model in fitted_models.items():\n",
    "    pred = model.predict(X_test)\n",
    "    print(key)\n",
    "    print('----') \n",
    "    print('R^2:', r2_score(y_test,pred))\n",
    "    print('MAE:', mean_absolute_error(10**y_test,10**pred))\n",
    "    print()"
   ]
  },
  {
   "cell_type": "code",
   "execution_count": 83,
   "id": "684dfc20-328f-4e95-9fd9-4cb575dce2c0",
   "metadata": {},
   "outputs": [],
   "source": [
    "# Choose the best model\n",
    "best = 'ridge'"
   ]
  },
  {
   "cell_type": "code",
   "execution_count": 85,
   "id": "c81df328-40a9-427f-90f0-bf347474252c",
   "metadata": {},
   "outputs": [
    {
     "data": {
      "image/png": "[encoded data removed]",
      "text/plain": [
       "<Figure size 640x480 with 1 Axes>"
      ]
     },
     "metadata": {},
     "output_type": "display_data"
    }
   ],
   "source": [
    "# Plot performance of winning model\n",
    "pred = fitted_models[best].predict(X_test)\n",
    "plt.scatter(10**pred, 10**y_test)\n",
    "plt.plot( [0,1000], [0,1000], linestyle='--', color='k' )\n",
    "plt.xlabel('Predicted')\n",
    "plt.ylabel('Actual')\n",
    "plt.axis('square')\n",
    "plt.show()"
   ]
  },
  {
   "cell_type": "code",
   "execution_count": 87,
   "id": "29508d0a-d2b2-484f-8dcd-e0c5e46ef8d3",
   "metadata": {},
   "outputs": [
    {
     "data": {
      "text/html": [
       "<style>#sk-container-id-2 {color: black;background-color: white;}#sk-container-id-2 pre{padding: 0;}#sk-container-id-2 div.sk-toggleable {background-color: white;}#sk-container-id-2 label.sk-toggleable__label {cursor: pointer;display: block;width: 100%;margin-bottom: 0;padding: 0.3em;box-sizing: border-box;text-align: center;}#sk-container-id-2 label.sk-toggleable__label-arrow:before {content: \"▸\";float: left;margin-right: 0.25em;color: #696969;}#sk-container-id-2 label.sk-toggleable__label-arrow:hover:before {color: black;}#sk-container-id-2 div.sk-estimator:hover label.sk-toggleable__label-arrow:before {color: black;}#sk-container-id-2 div.sk-toggleable__content {max-height: 0;max-width: 0;overflow: hidden;text-align: left;background-color: #f0f8ff;}#sk-container-id-2 div.sk-toggleable__content pre {margin: 0.2em;color: black;border-radius: 0.25em;background-color: #f0f8ff;}#sk-container-id-2 input.sk-toggleable__control:checked~div.sk-toggleable__content {max-height: 200px;max-width: 100%;overflow: auto;}#sk-container-id-2 input.sk-toggleable__control:checked~label.sk-toggleable__label-arrow:before {content: \"▾\";}#sk-container-id-2 div.sk-estimator input.sk-toggleable__control:checked~label.sk-toggleable__label {background-color: #d4ebff;}#sk-container-id-2 div.sk-label input.sk-toggleable__control:checked~label.sk-toggleable__label {background-color: #d4ebff;}#sk-container-id-2 input.sk-hidden--visually {border: 0;clip: rect(1px 1px 1px 1px);clip: rect(1px, 1px, 1px, 1px);height: 1px;margin: -1px;overflow: hidden;padding: 0;position: absolute;width: 1px;}#sk-container-id-2 div.sk-estimator {font-family: monospace;background-color: #f0f8ff;border: 1px dotted black;border-radius: 0.25em;box-sizing: border-box;margin-bottom: 0.5em;}#sk-container-id-2 div.sk-estimator:hover {background-color: #d4ebff;}#sk-container-id-2 div.sk-parallel-item::after {content: \"\";width: 100%;border-bottom: 1px solid gray;flex-grow: 1;}#sk-container-id-2 div.sk-label:hover label.sk-toggleable__label {background-color: #d4ebff;}#sk-container-id-2 div.sk-serial::before {content: \"\";position: absolute;border-left: 1px solid gray;box-sizing: border-box;top: 0;bottom: 0;left: 50%;z-index: 0;}#sk-container-id-2 div.sk-serial {display: flex;flex-direction: column;align-items: center;background-color: white;padding-right: 0.2em;padding-left: 0.2em;position: relative;}#sk-container-id-2 div.sk-item {position: relative;z-index: 1;}#sk-container-id-2 div.sk-parallel {display: flex;align-items: stretch;justify-content: center;background-color: white;position: relative;}#sk-container-id-2 div.sk-item::before, #sk-container-id-2 div.sk-parallel-item::before {content: \"\";position: absolute;border-left: 1px solid gray;box-sizing: border-box;top: 0;bottom: 0;left: 50%;z-index: -1;}#sk-container-id-2 div.sk-parallel-item {display: flex;flex-direction: column;z-index: 1;position: relative;background-color: white;}#sk-container-id-2 div.sk-parallel-item:first-child::after {align-self: flex-end;width: 50%;}#sk-container-id-2 div.sk-parallel-item:last-child::after {align-self: flex-start;width: 50%;}#sk-container-id-2 div.sk-parallel-item:only-child::after {width: 0;}#sk-container-id-2 div.sk-dashed-wrapped {border: 1px dashed gray;margin: 0 0.4em 0.5em 0.4em;box-sizing: border-box;padding-bottom: 0.4em;background-color: white;}#sk-container-id-2 div.sk-label label {font-family: monospace;font-weight: bold;display: inline-block;line-height: 1.2em;}#sk-container-id-2 div.sk-label-container {text-align: center;}#sk-container-id-2 div.sk-container {/* jupyter's `normalize.less` sets `[hidden] { display: none; }` but bootstrap.min.css set `[hidden] { display: none !important; }` so we also need the `!important` here to be able to override the default hidden behavior on the sphinx rendered scikit-learn.org. See: https://github.com/scikit-learn/scikit-learn/issues/21755 */display: inline-block !important;position: relative;}#sk-container-id-2 div.sk-text-repr-fallback {display: none;}</style><div id=\"sk-container-id-2\" class=\"sk-top-container\"><div class=\"sk-text-repr-fallback\"><pre>Pipeline(steps=[(&#x27;standardscaler&#x27;, StandardScaler()),\n",
       "                (&#x27;ridge&#x27;, Ridge(alpha=10, random_state=987))])</pre><b>In a Jupyter environment, please rerun this cell to show the HTML representation or trust the notebook. <br />On GitHub, the HTML representation is unable to render, please try loading this page with nbviewer.org.</b></div><div class=\"sk-container\" hidden><div class=\"sk-item sk-dashed-wrapped\"><div class=\"sk-label-container\"><div class=\"sk-label sk-toggleable\"><input class=\"sk-toggleable__control sk-hidden--visually\" id=\"sk-estimator-id-4\" type=\"checkbox\" ><label for=\"sk-estimator-id-4\" class=\"sk-toggleable__label sk-toggleable__label-arrow\">Pipeline</label><div class=\"sk-toggleable__content\"><pre>Pipeline(steps=[(&#x27;standardscaler&#x27;, StandardScaler()),\n",
       "                (&#x27;ridge&#x27;, Ridge(alpha=10, random_state=987))])</pre></div></div></div><div class=\"sk-serial\"><div class=\"sk-item\"><div class=\"sk-estimator sk-toggleable\"><input class=\"sk-toggleable__control sk-hidden--visually\" id=\"sk-estimator-id-5\" type=\"checkbox\" ><label for=\"sk-estimator-id-5\" class=\"sk-toggleable__label sk-toggleable__label-arrow\">StandardScaler</label><div class=\"sk-toggleable__content\"><pre>StandardScaler()</pre></div></div></div><div class=\"sk-item\"><div class=\"sk-estimator sk-toggleable\"><input class=\"sk-toggleable__control sk-hidden--visually\" id=\"sk-estimator-id-6\" type=\"checkbox\" ><label for=\"sk-estimator-id-6\" class=\"sk-toggleable__label sk-toggleable__label-arrow\">Ridge</label><div class=\"sk-toggleable__content\"><pre>Ridge(alpha=10, random_state=987)</pre></div></div></div></div></div></div></div>"
      ],
      "text/plain": [
       "Pipeline(steps=[('standardscaler', StandardScaler()),\n",
       "                ('ridge', Ridge(alpha=10, random_state=987))])"
      ]
     },
     "execution_count": 87,
     "metadata": {},
     "output_type": "execute_result"
    }
   ],
   "source": [
    "# Display best pipeline - hyperparameter values\n",
    "fitted_models[best].best_estimator_"
   ]
  },
  {
   "cell_type": "code",
   "execution_count": 89,
   "id": "eea1698f-e20e-4d66-9004-8426579382e9",
   "metadata": {},
   "outputs": [],
   "source": [
    "# Save best pipeline object\n",
    "with open('final_model.pkl','wb') as f:\n",
    "    pickle.dump(fitted_models[best].best_estimator_, f)"
   ]
  },
  {
   "cell_type": "markdown",
   "id": "0117c361-18d1-4f04-b0b7-e49041809180",
   "metadata": {},
   "source": [
    "## Insights & Analysis"
   ]
  },
  {
   "cell_type": "markdown",
   "id": "e67347dd-94f5-458c-8593-a4172dea0fbc",
   "metadata": {},
   "source": [
    "Results: The ridge regression eeked out the best performance with a mean absolute error of $53 and an R^2 suggesting the model was able to capture 71% of the variation in the data. Not too shabby! This model would probably perform even better in a larger city setting where neighborhoods and proximity to desirable locations vary more than they do in Bozeman. This project taught me a lot about the importance of domain knowledge and feature engineering. While there was a lot of useful raw information available, it took extensive manipulation, data exploration, and calling on my own experiences as an Airbnb guest and host to creatively engineer features that the algorithms would be able to use to predict listing prices. \\\n",
    "\\\n",
    "If I were to continue working on this, I would love to build something that takes into account other aspects that impact price that would take a bit more work to include. These include seasonality, which could be added to the model using time-series data, cosmetic appeal, which could be brought into the model through image analysis of listing thumbnails, information only provided in the text of a listing (caveats, special notes, rules, etc), which could be brought into the model using NLP, and host preferences (such as a host preferring maximum booked nights (thus willing to drop the price to fill empty days) versus a host who would rather see the listing sit empty than accept an amount less than X due to cleaning or hassle costs), which could be brought into the model through the classification of hosts into types using time-series data."
   ]
  },
  {
   "cell_type": "markdown",
   "id": "cb8acba2-e49e-428f-bda2-172bb08fd874",
   "metadata": {},
   "source": [
    "Theoretical next steps for the implementation of this tool would be to: \n",
    "1. Create a generalized version to predict price in any market. \\\n",
    "    I wanted to do a deep dive on Bozeman's Airbnb market that would allow me to understand the kinds of listings that are most common, where listings are located, minimum stays, popular amenities, and what kinds of hosts have listings in Bozeman in connection with another project. Generalizing this tool this would include removing Bozeman-specific data cleaning steps and making them flexible to other markets. For example, neighborhood classifiers would undoubtedly be useful in larger cities - Bozeman's data only had 1 neighborhood - and shared rooms are likely more prevalent in other markets, so could be included - Bozeman only had one shared room listing in this data. To scale this script, I would add more assert checks and more flexible conditional statements to account for differences in the data available in different markets. \n",
    "2. Build a user-friendly interface that takes in X key characteristics about a new listing and uses the winning model to suggest a listing price."
   ]
  },
  {
   "cell_type": "code",
   "execution_count": null,
   "id": "3c64087a-74b8-4745-823b-f0db2a0ca50c",
   "metadata": {},
   "outputs": [],
   "source": []
  }
 ],
 "metadata": {
  "kernelspec": {
   "display_name": "Python 3 (ipykernel)",
   "language": "python",
   "name": "python3"
  },
  "language_info": {
   "codemirror_mode": {
    "name": "ipython",
    "version": 3
   },
   "file_extension": ".py",
   "mimetype": "text/x-python",
   "name": "python",
   "nbconvert_exporter": "python",
   "pygments_lexer": "ipython3",
   "version": "3.11.7"
  }
 },
 "nbformat": 4,
 "nbformat_minor": 5
}
